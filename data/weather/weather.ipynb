{
 "cells": [
  {
   "cell_type": "markdown",
   "metadata": {},
   "source": [
    "# Task 8 Jupyter Notebook\n"
   ]
  },
  {
   "cell_type": "markdown",
   "metadata": {},
   "source": [
    "Create a notebook called weather.ipynb at the root of your repository. In this notebook, write a brief report explaining how you completed Tasks 1 to 7. Provide short descriptions of the commands used in each task and explain their role in completing the tasks."
   ]
  },
  {
   "cell_type": "markdown",
   "metadata": {},
   "source": [
    "## Task 1: Create Directory Structure\n"
   ]
  },
  {
   "cell_type": "code",
   "execution_count": 34,
   "metadata": {},
   "outputs": [],
   "source": [
    "\n",
    "import os\n"
   ]
  },
  {
   "cell_type": "markdown",
   "metadata": {},
   "source": [
    "\n",
    "### Define directory paths\n"
   ]
  },
  {
   "cell_type": "code",
   "execution_count": 35,
   "metadata": {},
   "outputs": [],
   "source": [
    "data_dir = \"data\"\n",
    "timestamps_dir = os.path.join(data_dir, \"timestamps\")\n",
    "weather_dir = os.path.join(data_dir, \"weather\")\n"
   ]
  },
  {
   "cell_type": "markdown",
   "metadata": {},
   "source": [
    "\n",
    "### Create directories\n"
   ]
  },
  {
   "cell_type": "code",
   "execution_count": 36,
   "metadata": {},
   "outputs": [
    {
     "name": "stdout",
     "output_type": "stream",
     "text": [
      "Directories created: data\\timestamps, data\\weather\n"
     ]
    }
   ],
   "source": [
    "os.makedirs(timestamps_dir, exist_ok=True)\n",
    "os.makedirs(weather_dir, exist_ok=True)\n",
    "\n",
    "print(f\"Directories created: {timestamps_dir}, {weather_dir}\")"
   ]
  },
  {
   "cell_type": "markdown",
   "metadata": {},
   "source": [
    "## Task 2: Append Current Date and Time to now.txt\n"
   ]
  },
  {
   "cell_type": "code",
   "execution_count": 37,
   "metadata": {},
   "outputs": [],
   "source": [
    "\n",
    "from datetime import datetime\n",
    "\n",
    "now_file = os.path.join(timestamps_dir, \"now.txt\")\n"
   ]
  },
  {
   "cell_type": "markdown",
   "metadata": {},
   "source": [
    "\n",
    "### Append current date and time 10 times\n"
   ]
  },
  {
   "cell_type": "code",
   "execution_count": 38,
   "metadata": {},
   "outputs": [
    {
     "name": "stdout",
     "output_type": "stream",
     "text": [
      "Appended current date and time 10 times to data\\timestamps\\now.txt\n"
     ]
    }
   ],
   "source": [
    "with open(now_file, \"a\") as file:\n",
    "    for _ in range(10):\n",
    "        file.write(f\"{datetime.now()}\\n\")\n",
    "\n",
    "print(f\"Appended current date and time 10 times to {now_file}\")"
   ]
  },
  {
   "cell_type": "markdown",
   "metadata": {},
   "source": [
    "## Task 3: Append Formatted Timestamps to formatted.txt\n"
   ]
  },
  {
   "cell_type": "code",
   "execution_count": 39,
   "metadata": {},
   "outputs": [],
   "source": [
    "\n",
    "formatted_file = os.path.join(timestamps_dir, \"formatted.txt\")\n"
   ]
  },
  {
   "cell_type": "markdown",
   "metadata": {},
   "source": [
    "\n",
    "### Append formatted timestamps\n"
   ]
  },
  {
   "cell_type": "code",
   "execution_count": 40,
   "metadata": {},
   "outputs": [
    {
     "name": "stdout",
     "output_type": "stream",
     "text": [
      "Appended formatted timestamps to data\\timestamps\\formatted.txt\n"
     ]
    }
   ],
   "source": [
    "with open(formatted_file, \"a\") as file:\n",
    "    for _ in range(10):\n",
    "        file.write(f\"{datetime.now().strftime('%Y%m%d_%H%M%S')}\\n\")\n",
    "\n",
    "print(f\"Appended formatted timestamps to {formatted_file}\")"
   ]
  },
  {
   "cell_type": "markdown",
   "metadata": {},
   "source": [
    "## Task 4: Create Timestamped Files\n"
   ]
  },
  {
   "cell_type": "markdown",
   "metadata": {},
   "source": [
    "\n",
    "### Create an empty file with a timestamped name\n"
   ]
  },
  {
   "cell_type": "code",
   "execution_count": 41,
   "metadata": {},
   "outputs": [],
   "source": [
    "empty_file_name = datetime.now().strftime('%Y%m%d_%H%M%S') + \".txt\"\n",
    "empty_file_path = os.path.join(timestamps_dir, empty_file_name)\n"
   ]
  },
  {
   "cell_type": "code",
   "execution_count": 42,
   "metadata": {},
   "outputs": [
    {
     "name": "stdout",
     "output_type": "stream",
     "text": [
      "Created empty file: data\\timestamps\\20241211_220223.txt\n"
     ]
    }
   ],
   "source": [
    "\n",
    "with open(empty_file_path, \"w\") as file:\n",
    "    pass  # Create an empty file\n",
    "\n",
    "print(f\"Created empty file: {empty_file_path}\")"
   ]
  },
  {
   "cell_type": "markdown",
   "metadata": {},
   "source": [
    "## Task 5: Download Today’s Weather Data\n"
   ]
  },
  {
   "cell_type": "code",
   "execution_count": 43,
   "metadata": {},
   "outputs": [],
   "source": [
    "\n",
    "import requests\n",
    "\n",
    "weather_url = \"https://prodapi.metweb.ie/observations/athenry/today\"\n",
    "weather_file = os.path.join(weather_dir, \"weather.json\")\n"
   ]
  },
  {
   "cell_type": "markdown",
   "metadata": {},
   "source": [
    "\n",
    "### Download weather data\n"
   ]
  },
  {
   "cell_type": "code",
   "execution_count": 44,
   "metadata": {},
   "outputs": [
    {
     "name": "stdout",
     "output_type": "stream",
     "text": [
      "Downloaded weather data to data\\weather\\weather.json\n"
     ]
    }
   ],
   "source": [
    "response = requests.get(weather_url)\n",
    "if response.status_code == 200:\n",
    "    with open(weather_file, \"w\") as file:\n",
    "        file.write(response.text)\n",
    "    print(f\"Downloaded weather data to {weather_file}\")\n",
    "else:\n",
    "    print(f\"Failed to download weather data. Status code: {response.status_code}\")"
   ]
  },
  {
   "cell_type": "markdown",
   "metadata": {},
   "source": [
    "## Task 6: Save Weather Data with Timestamped Filenames\n"
   ]
  },
  {
   "cell_type": "code",
   "execution_count": 45,
   "metadata": {},
   "outputs": [],
   "source": [
    "\n",
    "timestamped_weather_file = os.path.join(weather_dir, datetime.now().strftime('%Y%m%d_%H%M%S') + \".json\")\n"
   ]
  },
  {
   "cell_type": "markdown",
   "metadata": {},
   "source": [
    "\n",
    "### Download weather data with timestamped filename\n"
   ]
  },
  {
   "cell_type": "code",
   "execution_count": 46,
   "metadata": {},
   "outputs": [
    {
     "name": "stdout",
     "output_type": "stream",
     "text": [
      "Downloaded weather data with timestamped filename: data\\weather\\20241211_220225.json\n"
     ]
    }
   ],
   "source": [
    "response = requests.get(weather_url)\n",
    "if response.status_code == 200:\n",
    "    with open(timestamped_weather_file, \"w\") as file:\n",
    "        file.write(response.text)\n",
    "    print(f\"Downloaded weather data with timestamped filename: {timestamped_weather_file}\")\n",
    "else:\n",
    "    print(f\"Failed to download weather data. Status code: {response.status_code}\")"
   ]
  },
  {
   "cell_type": "markdown",
   "metadata": {},
   "source": [
    "TASK 7\n",
    "\n",
    "Automate Task 6 into a script"
   ]
  }
 ],
 "metadata": {
  "kernelspec": {
   "display_name": "Python 3",
   "language": "python",
   "name": "python3"
  },
  "language_info": {
   "codemirror_mode": {
    "name": "ipython",
    "version": 3
   },
   "file_extension": ".py",
   "mimetype": "text/x-python",
   "name": "python",
   "nbconvert_exporter": "python",
   "pygments_lexer": "ipython3",
   "version": "3.11.9"
  }
 },
 "nbformat": 4,
 "nbformat_minor": 2
}
