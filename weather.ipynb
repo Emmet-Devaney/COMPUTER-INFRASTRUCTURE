{
 "cells": [
  {
   "cell_type": "markdown",
   "metadata": {},
   "source": [
    "# Task 8 Jupyter Notebook\n"
   ]
  },
  {
   "cell_type": "markdown",
   "metadata": {},
   "source": [
    "Create a notebook called weather.ipynb at the root of your repository. In this notebook, write a brief report explaining how you completed Tasks 1 to 7. Provide short descriptions of the commands used in each task and explain their role in completing the tasks."
   ]
  },
  {
   "cell_type": "markdown",
   "metadata": {},
   "source": [
    "## Task 1: Create Directory Structure\n"
   ]
  },
  {
   "cell_type": "markdown",
   "metadata": {},
   "source": [
    "**Task** Using the command line, create a directory (that is, a folder) named data at the root of your repository. Inside data, create two subdirectories: timestamps and weather."
   ]
  },
  {
   "cell_type": "code",
   "execution_count": 288,
   "metadata": {},
   "outputs": [],
   "source": [
    "%%bash\n",
    "\n",
    "mkdir -p data"
   ]
  },
  {
   "cell_type": "markdown",
   "metadata": {},
   "source": [
    "\n",
    "### Define directory paths\n"
   ]
  },
  {
   "cell_type": "code",
   "execution_count": 289,
   "metadata": {},
   "outputs": [],
   "source": [
    "%%bash\n",
    "mkdir -p data/timestamps data/weather"
   ]
  },
  {
   "cell_type": "markdown",
   "metadata": {},
   "source": [
    "## Task 2: Append Current Date and Time to now.txt\n"
   ]
  },
  {
   "cell_type": "markdown",
   "metadata": {},
   "source": [
    "**Task:**\n",
    "Navigate to the data/timestamps directory. Use the date command to output the current date and time, appending the output to a file named now.txt. Make sure to use the >> operator to append (not overwrite) the file. Repeat this step ten times, then use the more command to verify that now.txt has the expected content."
   ]
  },
  {
   "cell_type": "code",
   "execution_count": 290,
   "metadata": {},
   "outputs": [
    {
     "name": "stdout",
     "output_type": "stream",
     "text": [
      "::::::::::::::\n",
      "now.txt\n",
      "::::::::::::::\n",
      "2024-12-11 21:52:55.631722\n",
      "2024-12-11 21:52:55.631722\n",
      "2024-12-11 21:52:55.631722\n",
      "2024-12-11 21:52:55.631722\n",
      "2024-12-11 21:52:55.631722\n",
      "2024-12-11 21:52:55.631722\n",
      "2024-12-11 21:52:55.631722\n",
      "2024-12-11 21:52:55.631722\n",
      "2024-12-11 21:52:55.631722\n",
      "2024-12-11 21:52:55.631722\n",
      "2024-12-11 21:55:36.943599\n",
      "2024-12-11 21:55:36.943599\n",
      "2024-12-11 21:55:36.943599\n",
      "2024-12-11 21:55:36.943599\n",
      "2024-12-11 21:55:36.943599\n",
      "2024-12-11 21:55:36.943599\n",
      "2024-12-11 21:55:36.943599\n",
      "2024-12-11 21:55:36.943599\n",
      "2024-12-11 21:55:36.943599\n",
      "2024-12-11 21:55:36.943599\n",
      "2024-12-11 22:02:23.766387\n",
      "2024-12-11 22:02:23.766387\n",
      "2024-12-11 22:02:23.766387\n",
      "2024-12-11 22:02:23.766387\n",
      "2024-12-11 22:02:23.766387\n",
      "2024-12-11 22:02:23.766387\n",
      "2024-12-11 22:02:23.766387\n",
      "2024-12-11 22:02:23.766387\n",
      "2024-12-11 22:02:23.766387\n",
      "2024-12-11 22:02:23.766387\n",
      "2024-12-15 21:06:04.731326\n",
      "2024-12-15 21:06:04.731326\n",
      "2024-12-15 21:06:04.731326\n",
      "2024-12-15 21:06:04.731326\n",
      "2024-12-15 21:06:04.731326\n",
      "2024-12-15 21:06:04.731326\n",
      "2024-12-15 21:06:04.731326\n",
      "2024-12-15 21:06:04.731326\n",
      "2024-12-15 21:06:04.731326\n",
      "2024-12-15 21:06:04.731326\n",
      "2024-12-18 23:09:51.855194\n",
      "2024-12-18 23:09:51.855194\n",
      "2024-12-18 23:09:51.855194\n",
      "2024-12-18 23:09:51.855194\n",
      "2024-12-18 23:09:51.855194\n",
      "2024-12-18 23:09:51.855194\n",
      "2024-12-18 23:09:51.855194\n",
      "2024-12-18 23:09:51.855194\n",
      "2024-12-18 23:09:51.855194\n",
      "2024-12-18 23:09:51.855194\n",
      "2024-12-19 01:44:43.566545\n",
      "2024-12-19 01:44:43.566545\n",
      "2024-12-19 01:44:43.566545\n",
      "2024-12-19 01:44:43.566545\n",
      "2024-12-19 01:44:43.566545\n",
      "2024-12-19 01:44:43.566545\n",
      "2024-12-19 01:44:43.566545\n",
      "2024-12-19 01:44:43.566545\n",
      "2024-12-19 01:44:43.566545\n",
      "2024-12-19 01:44:43.566545\n",
      "2024-12-19 01:50:11.791398\n",
      "2024-12-19 01:50:11.791398\n",
      "2024-12-19 01:50:11.791398\n",
      "2024-12-19 01:50:11.791398\n",
      "2024-12-19 01:50:11.791398\n",
      "2024-12-19 01:50:11.791398\n",
      "2024-12-19 01:50:11.791398\n",
      "2024-12-19 01:50:11.791398\n",
      "2024-12-19 01:50:11.791398\n",
      "2024-12-19 01:50:11.791398\n",
      "2024-12-19 01:51:21.217692\n",
      "2024-12-19 01:51:21.217692\n",
      "2024-12-19 01:51:21.217692\n",
      "2024-12-19 01:51:21.217692\n",
      "2024-12-19 01:51:21.217692\n",
      "2024-12-19 01:51:21.217692\n",
      "2024-12-19 01:51:21.217692\n",
      "2024-12-19 01:51:21.217692\n",
      "2024-12-19 01:51:21.217692\n",
      "2024-12-19 01:51:21.217692\n",
      "2024-12-19 02:08:27.246411\n",
      "2024-12-19 02:08:27.246411\n",
      "2024-12-19 02:08:27.246411\n",
      "2024-12-19 02:08:27.246411\n",
      "2024-12-19 02:08:27.246411\n",
      "2024-12-19 02:08:27.246411\n",
      "2024-12-19 02:08:27.246411\n",
      "2024-12-19 02:08:27.246411\n",
      "2024-12-19 02:08:27.246411\n",
      "2024-12-19 02:08:27.246411\n",
      "2024-12-19 23:23:46.888952\n",
      "2024-12-19 23:23:46.888952\n",
      "2024-12-19 23:23:46.888952\n",
      "2024-12-19 23:23:46.888952\n",
      "2024-12-19 23:23:46.888952\n",
      "2024-12-19 23:23:46.888952\n",
      "2024-12-19 23:23:46.888952\n",
      "2024-12-19 23:23:46.888952\n",
      "2024-12-19 23:23:46.888952\n",
      "2024-12-19 23:23:46.888952\n",
      "2024-12-19 23:48:16.087400\n",
      "2024-12-19 23:48:16.087400\n",
      "2024-12-19 23:48:16.087400\n",
      "2024-12-19 23:48:16.087400\n",
      "2024-12-19 23:48:16.087400\n",
      "2024-12-19 23:48:16.087400\n",
      "2024-12-19 23:48:16.087400\n",
      "2024-12-19 23:48:16.087400\n",
      "2024-12-19 23:48:16.087400\n",
      "2024-12-19 23:48:16.087400\n",
      "2024-12-20 01:58:02.620348\n",
      "2024-12-20 01:58:02.620348\n",
      "2024-12-20 01:58:02.620348\n",
      "2024-12-20 01:58:02.620348\n",
      "2024-12-20 01:58:02.620348\n",
      "2024-12-20 01:58:02.620348\n",
      "2024-12-20 01:58:02.620348\n",
      "2024-12-20 01:58:02.620348\n",
      "2024-12-20 01:58:02.620348\n",
      "2024-12-20 01:58:02.620348\n",
      "2024-12-20 01:58:19.711955\n",
      "2024-12-20 01:58:19.711955\n",
      "2024-12-20 01:58:19.711955\n",
      "2024-12-20 01:58:19.711955\n",
      "2024-12-20 01:58:19.711955\n",
      "2024-12-20 01:58:19.711955\n",
      "2024-12-20 01:58:19.711955\n",
      "2024-12-20 01:58:19.711955\n",
      "2024-12-20 01:58:19.711955\n",
      "2024-12-20 01:58:19.711955\n",
      "2024-12-20 03:01:59.055529\n",
      "2024-12-20 03:01:59.055529\n",
      "2024-12-20 03:01:59.055529\n",
      "2024-12-20 03:01:59.055529\n",
      "2024-12-20 03:01:59.055529\n",
      "2024-12-20 03:01:59.055529\n",
      "2024-12-20 03:01:59.055529\n",
      "2024-12-20 03:01:59.055529\n",
      "2024-12-20 03:01:59.055529\n",
      "2024-12-20 03:01:59.055529\n",
      "2024-12-20 03:06:17.263193\n",
      "2024-12-20 03:06:17.263193\n",
      "2024-12-20 03:06:17.263193\n",
      "2024-12-20 03:06:17.263193\n",
      "2024-12-20 03:06:17.263193\n",
      "2024-12-20 03:06:17.263193\n",
      "2024-12-20 03:06:17.263193\n",
      "2024-12-20 03:06:17.263193\n",
      "2024-12-20 03:06:17.263193\n",
      "2024-12-20 03:06:17.263193\n",
      "Fri Dec 20 03:27:21 GMT 2024\n",
      "Fri Dec 20 03:27:21 GMT 2024\n",
      "Fri Dec 20 03:27:21 GMT 2024\n",
      "Fri Dec 20 03:27:21 GMT 2024\n",
      "Fri Dec 20 03:27:21 GMT 2024\n",
      "Fri Dec 20 03:27:21 GMT 2024\n",
      "Fri Dec 20 03:27:21 GMT 2024\n",
      "Fri Dec 20 03:27:21 GMT 2024\n",
      "Fri Dec 20 03:27:21 GMT 2024\n",
      "Fri Dec 20 03:27:21 GMT 2024\n",
      "Fri Dec 20 03:37:45 GMT 2024\n",
      "Fri Dec 20 03:37:45 GMT 2024\n",
      "Fri Dec 20 03:37:45 GMT 2024\n",
      "Fri Dec 20 03:37:45 GMT 2024\n",
      "Fri Dec 20 03:37:45 GMT 2024\n",
      "Fri Dec 20 03:37:45 GMT 2024\n",
      "Fri Dec 20 03:37:45 GMT 2024\n",
      "Fri Dec 20 03:37:45 GMT 2024\n",
      "Fri Dec 20 03:37:45 GMT 2024\n",
      "Fri Dec 20 03:37:45 GMT 2024\n",
      "Fri Dec 20 03:40:23 GMT 2024\n",
      "Fri Dec 20 03:40:23 GMT 2024\n",
      "Fri Dec 20 03:40:23 GMT 2024\n",
      "Fri Dec 20 03:40:23 GMT 2024\n",
      "Fri Dec 20 03:40:23 GMT 2024\n",
      "Fri Dec 20 03:40:23 GMT 2024\n",
      "Fri Dec 20 03:40:23 GMT 2024\n",
      "Fri Dec 20 03:40:23 GMT 2024\n",
      "Fri Dec 20 03:40:23 GMT 2024\n",
      "Fri Dec 20 03:40:23 GMT 2024\n",
      "Fri Dec 20 03:46:52 GMT 2024\n",
      "Fri Dec 20 03:46:52 GMT 2024\n",
      "Fri Dec 20 03:46:52 GMT 2024\n",
      "Fri Dec 20 03:46:52 GMT 2024\n",
      "Fri Dec 20 03:46:52 GMT 2024\n",
      "Fri Dec 20 03:46:52 GMT 2024\n",
      "Fri Dec 20 03:46:52 GMT 2024\n",
      "Fri Dec 20 03:46:52 GMT 2024\n",
      "Fri Dec 20 03:46:52 GMT 2024\n",
      "Fri Dec 20 03:46:52 GMT 2024\n",
      "Fri Dec 20 03:52:53 GMT 2024\n",
      "Fri Dec 20 03:52:53 GMT 2024\n",
      "Fri Dec 20 03:52:53 GMT 2024\n",
      "Fri Dec 20 03:52:53 GMT 2024\n",
      "Fri Dec 20 03:52:53 GMT 2024\n",
      "Fri Dec 20 03:52:53 GMT 2024\n",
      "Fri Dec 20 03:52:53 GMT 2024\n",
      "Fri Dec 20 03:52:53 GMT 2024\n",
      "Fri Dec 20 03:52:53 GMT 2024\n",
      "Fri Dec 20 03:52:53 GMT 2024\n"
     ]
    }
   ],
   "source": [
    "%%bash\n",
    "\n",
    "cd data/timestamps\n",
    "\n",
    "for i in {1..10}; do\n",
    "  date >> now.txt\n",
    "done\n",
    "\n",
    "more now.txt"
   ]
  },
  {
   "cell_type": "markdown",
   "metadata": {},
   "source": [
    "## Task 3: Append Formatted Timestamps to formatted.txt\n"
   ]
  },
  {
   "cell_type": "markdown",
   "metadata": {},
   "source": [
    "**Task:**\n",
    "Run the date command again, but this time format the output using YYYYmmdd_HHMMSS (e.g., 20261114_130003 for 1:00:03 PM on November 14, 2026). Refer to the date man page (using man date) for more formatting options. (Press q to exit the man page). Append the formatted output to a file named formatted.txt."
   ]
  },
  {
   "cell_type": "code",
   "execution_count": 291,
   "metadata": {},
   "outputs": [],
   "source": [
    "%%bash\n",
    "\n",
    "date \"+%Y%m%d_%H%M%S\" >> data/timestamps/formatted.txt\n",
    "\n"
   ]
  },
  {
   "cell_type": "markdown",
   "metadata": {},
   "source": [
    "## Task 4: Create Timestamped Files\n"
   ]
  },
  {
   "cell_type": "markdown",
   "metadata": {},
   "source": [
    "**Task:**\n",
    "Use the touch command to create an empty file with a name in the YYYYmmdd_HHMMSS.txt format. You can achieve this by embedding your date command in backticks ` into the touch command. You should no longer use redirection (>>) in this step."
   ]
  },
  {
   "cell_type": "code",
   "execution_count": 292,
   "metadata": {},
   "outputs": [],
   "source": [
    "%%bash\n",
    "\n",
    "timestamps_dir=\"data/timestamps\"\n",
    "\n",
    "touch \"$timestamps_dir/$(date \"+%Y%m%d_%H%M%S\").txt\""
   ]
  },
  {
   "cell_type": "markdown",
   "metadata": {},
   "source": [
    "## Task 5: Download Today’s Weather Data\n"
   ]
  },
  {
   "cell_type": "markdown",
   "metadata": {},
   "source": [
    "**Task:**\n",
    "Change to the data/weather directory. Download the latest weather data for the Athenry weather station from Met Eireann using wget. Use the -O <filename> option to save the file as weather.json. The data can be found at this URL:\n",
    "https://prodapi.metweb.ie/observations/athenry/today.\n"
   ]
  },
  {
   "cell_type": "code",
   "execution_count": 293,
   "metadata": {},
   "outputs": [
    {
     "name": "stderr",
     "output_type": "stream",
     "text": [
      "--2024-12-20 03:52:54--  https://prodapi.metweb.ie/observations/athenry/today\n",
      "Resolving prodapi.metweb.ie (prodapi.metweb.ie)... 139.162.185.91\n",
      "Connecting to prodapi.metweb.ie (prodapi.metweb.ie)|139.162.185.91|:443... connected.\n",
      "HTTP request sent, awaiting response... 200 OK\n",
      "Length: unspecified [application/json]\n",
      "Saving to: ‘weather.json’\n",
      "\n",
      "     0K .                                                       335M=0s\n",
      "\n",
      "2024-12-20 03:52:55 (335 MB/s) - ‘weather.json’ saved [1234]\n",
      "\n"
     ]
    }
   ],
   "source": [
    "%%bash\n",
    "cd data/weather\n",
    "\n",
    "wget -O weather.json https://prodapi.metweb.ie/observations/athenry/today"
   ]
  },
  {
   "cell_type": "markdown",
   "metadata": {},
   "source": [
    "## Task 6: Save Weather Data with Timestamped Filenames\n"
   ]
  },
  {
   "cell_type": "markdown",
   "metadata": {},
   "source": [
    "**Task:**\n",
    "Modify the command from Task 5 to save the downloaded file with a timestamped name in the format YYYYmmdd_HHMMSS.json."
   ]
  },
  {
   "cell_type": "code",
   "execution_count": 294,
   "metadata": {},
   "outputs": [
    {
     "name": "stderr",
     "output_type": "stream",
     "text": [
      "  % Total    % Received % Xferd  Average Speed   Time    Time     Time  Current\n",
      "                                 Dload  Upload   Total   Spent    Left  Speed\n",
      "100  1256  100  1256    0     0   4396      0 --:--:-- --:--:-- --:--:--  4391\n"
     ]
    }
   ],
   "source": [
    "%%bash\n",
    "\n",
    "\n",
    "cd data/timestamps\n",
    "\n",
    "# Use the curl command to download the file and save it with a timestamped name\n",
    "curl -o \"$(date \"+%Y%m%d_%H%M%S\").json\" \"http://example.com/path/to/file.json\""
   ]
  },
  {
   "cell_type": "markdown",
   "metadata": {},
   "source": [
    "## Task 7: Automate the Process with weather.sh\n",
    "\n",
    "**Task description:** \n",
    "Write a bash script called `weather.sh` in the root of your repository. This script should automate the process from Task 6, saving the weather data to the `data/weather` directory. Make the script executable and test it by running it."
   ]
  },
  {
   "cell_type": "code",
   "execution_count": 295,
   "metadata": {},
   "outputs": [
    {
     "name": "stderr",
     "output_type": "stream",
     "text": [
      "  % Total    % Received % Xferd  Average Speed   Time    Time     Time  Current\n",
      "                                 Dload  Upload   Total   Spent    Left  Speed\n",
      "100  1234    0  1234    0     0   1446      0 --:--:-- --:--:-- --:--:--  1444\n"
     ]
    }
   ],
   "source": [
    "%%bash\n",
    "\n",
    "cd data/weather\n",
    "\n",
    "curl -o $(date +\"%Y%m%d_%H%M%S\").json https://prodapi.metweb.ie/observations/athenry/today\n",
    "\n",
    "\n"
   ]
  },
  {
   "cell_type": "code",
   "execution_count": 296,
   "metadata": {},
   "outputs": [],
   "source": [
    "%%bash\n",
    "\n",
    "chmod +x weather.sh"
   ]
  },
  {
   "cell_type": "code",
   "execution_count": 297,
   "metadata": {},
   "outputs": [
    {
     "name": "stderr",
     "output_type": "stream",
     "text": [
      "./weather.sh: line 1: fg: no job control\n",
      "  % Total    % Received % Xferd  Average Speed   Time    Time     Time  Current\n",
      "                                 Dload  Upload   Total   Spent    Left  Speed\n",
      "100  1234    0  1234    0     0   1444      0 --:--:-- --:--:-- --:--:--  1443\n"
     ]
    }
   ],
   "source": [
    "%%bash\n",
    "\n",
    "./weather.sh"
   ]
  },
  {
   "cell_type": "code",
   "execution_count": 298,
   "metadata": {},
   "outputs": [
    {
     "name": "stdout",
     "output_type": "stream",
     "text": [
      "20241211_194823.json\n",
      "20241211_213106.json\n",
      "20241211_215427.json\n",
      "20241211_215538.json\n",
      "20241211_220225.json\n",
      "20241215_210607.json\n",
      "20241218_234319.json\n",
      "20241218_234614.json\n",
      "20241219_012923.json\n",
      "20241219_013443.json\n",
      "20241219_014445.json\n",
      "20241219_014452.json\n",
      "20241219_015016.json\n",
      "20241219_020828.json\n",
      "20241219_232349.json\n",
      "20241219_234817.json\n",
      "20241220_015823.json\n",
      "20241220_015825.json\n",
      "20241220_023309.json\n",
      "20241220_023409.json\n",
      "20241220_033333.json\n",
      "20241220_034027.json\n",
      "20241220_034654.json\n",
      "20241220_034656.json\n",
      "20241220_035256.json\n",
      "20241220_035257.json\n",
      "weather.json\n"
     ]
    }
   ],
   "source": [
    "%%bash\n",
    "\n",
    "ls data/weather"
   ]
  },
  {
   "cell_type": "markdown",
   "metadata": {},
   "source": [
    "## Task 8: Notebook\n",
    "**Task description:** \n",
    "Create a notebook called weather.ipynb at the root of your repository. In this notebook, write a brief report explaining how you completed Tasks 1 to 7. Provide short descriptions of the commands used in each task and explain their role in completing the tasks.\n",
    "\n",
    "Using the \"touch\" command, I had created an empyty jupyter notebook, and using the \"ls\" command I had confirmed that the file had been created successfully:\n",
    "\n"
   ]
  },
  {
   "cell_type": "code",
   "execution_count": 299,
   "metadata": {},
   "outputs": [],
   "source": [
    "%%bash\n",
    "\n",
    "touch weather.ipynb\n"
   ]
  },
  {
   "cell_type": "code",
   "execution_count": 300,
   "metadata": {},
   "outputs": [
    {
     "name": "stdout",
     "output_type": "stream",
     "text": [
      "README.md\n",
      "data\n",
      "weather.ipynb\n",
      "weather.sh\n"
     ]
    }
   ],
   "source": [
    "%%bash\n",
    "\n",
    "ls"
   ]
  },
  {
   "cell_type": "markdown",
   "metadata": {},
   "source": [
    "## Task 9: pandas\n",
    "**Task description:** \n",
    "In your weather.ipynb notebook, use the pandas function read_json() to load in any one of the weather data files you have downloaded with your script. Examine and summarize the data. Use the information provided \"[data.gov.ie](https://data.gov.ie/dataset/todays-weather-athenry)\" to write a short explanation of what the data set contains."
   ]
  },
  {
   "cell_type": "code",
   "execution_count": 301,
   "metadata": {},
   "outputs": [],
   "source": [
    "import pandas as pd\n"
   ]
  },
  {
   "cell_type": "markdown",
   "metadata": {},
   "source": [
    "### Load a JSON file in the weather directory"
   ]
  },
  {
   "cell_type": "code",
   "execution_count": 302,
   "metadata": {},
   "outputs": [],
   "source": [
    "df = pd.read_json('data/weather/20241218_234614.json')"
   ]
  },
  {
   "cell_type": "code",
   "execution_count": 303,
   "metadata": {},
   "outputs": [
    {
     "data": {
      "text/html": [
       "<div>\n",
       "<style scoped>\n",
       "    .dataframe tbody tr th:only-of-type {\n",
       "        vertical-align: middle;\n",
       "    }\n",
       "\n",
       "    .dataframe tbody tr th {\n",
       "        vertical-align: top;\n",
       "    }\n",
       "\n",
       "    .dataframe thead th {\n",
       "        text-align: right;\n",
       "    }\n",
       "</style>\n",
       "<table border=\"1\" class=\"dataframe\">\n",
       "  <thead>\n",
       "    <tr style=\"text-align: right;\">\n",
       "      <th></th>\n",
       "      <th>name</th>\n",
       "      <th>temperature</th>\n",
       "      <th>symbol</th>\n",
       "      <th>weatherDescription</th>\n",
       "      <th>text</th>\n",
       "      <th>windSpeed</th>\n",
       "      <th>windGust</th>\n",
       "      <th>cardinalWindDirection</th>\n",
       "      <th>windDirection</th>\n",
       "      <th>humidity</th>\n",
       "      <th>rainfall</th>\n",
       "      <th>pressure</th>\n",
       "      <th>dayName</th>\n",
       "      <th>date</th>\n",
       "      <th>reportTime</th>\n",
       "    </tr>\n",
       "  </thead>\n",
       "  <tbody>\n",
       "    <tr>\n",
       "      <th>0</th>\n",
       "      <td>Athenry</td>\n",
       "      <td>13</td>\n",
       "      <td>05n</td>\n",
       "      <td>Rain showers</td>\n",
       "      <td>\"Rain shower\"</td>\n",
       "      <td>22</td>\n",
       "      <td>-</td>\n",
       "      <td>SW</td>\n",
       "      <td>225</td>\n",
       "      <td>96</td>\n",
       "      <td>0.3</td>\n",
       "      <td>993</td>\n",
       "      <td>Wednesday</td>\n",
       "      <td>2024-12-18</td>\n",
       "      <td>00:00</td>\n",
       "    </tr>\n",
       "    <tr>\n",
       "      <th>1</th>\n",
       "      <td>Athenry</td>\n",
       "      <td>13</td>\n",
       "      <td>05n</td>\n",
       "      <td>Rain showers</td>\n",
       "      <td>\"Rain shower\"</td>\n",
       "      <td>30</td>\n",
       "      <td>-</td>\n",
       "      <td>SW</td>\n",
       "      <td>225</td>\n",
       "      <td>94</td>\n",
       "      <td>0.7</td>\n",
       "      <td>992</td>\n",
       "      <td>Wednesday</td>\n",
       "      <td>2024-12-18</td>\n",
       "      <td>01:00</td>\n",
       "    </tr>\n",
       "    <tr>\n",
       "      <th>2</th>\n",
       "      <td>Athenry</td>\n",
       "      <td>12</td>\n",
       "      <td>05n</td>\n",
       "      <td>Rain showers</td>\n",
       "      <td>\"Rain shower\"</td>\n",
       "      <td>22</td>\n",
       "      <td>44</td>\n",
       "      <td>SW</td>\n",
       "      <td>225</td>\n",
       "      <td>96</td>\n",
       "      <td>0.8</td>\n",
       "      <td>991</td>\n",
       "      <td>Wednesday</td>\n",
       "      <td>2024-12-18</td>\n",
       "      <td>02:00</td>\n",
       "    </tr>\n",
       "    <tr>\n",
       "      <th>3</th>\n",
       "      <td>Athenry</td>\n",
       "      <td>12</td>\n",
       "      <td>05n</td>\n",
       "      <td>Rain showers</td>\n",
       "      <td>\"Rain shower\"</td>\n",
       "      <td>26</td>\n",
       "      <td>46</td>\n",
       "      <td>SW</td>\n",
       "      <td>225</td>\n",
       "      <td>97</td>\n",
       "      <td>0.8</td>\n",
       "      <td>991</td>\n",
       "      <td>Wednesday</td>\n",
       "      <td>2024-12-18</td>\n",
       "      <td>03:00</td>\n",
       "    </tr>\n",
       "    <tr>\n",
       "      <th>4</th>\n",
       "      <td>Athenry</td>\n",
       "      <td>12</td>\n",
       "      <td>09n</td>\n",
       "      <td>Rain</td>\n",
       "      <td>\"Moderate rain \"</td>\n",
       "      <td>28</td>\n",
       "      <td>-</td>\n",
       "      <td>NW</td>\n",
       "      <td>315</td>\n",
       "      <td>95</td>\n",
       "      <td>1.6</td>\n",
       "      <td>993</td>\n",
       "      <td>Wednesday</td>\n",
       "      <td>2024-12-18</td>\n",
       "      <td>04:00</td>\n",
       "    </tr>\n",
       "  </tbody>\n",
       "</table>\n",
       "</div>"
      ],
      "text/plain": [
       "      name  temperature symbol weatherDescription              text  \\\n",
       "0  Athenry           13    05n       Rain showers     \"Rain shower\"   \n",
       "1  Athenry           13    05n       Rain showers     \"Rain shower\"   \n",
       "2  Athenry           12    05n       Rain showers     \"Rain shower\"   \n",
       "3  Athenry           12    05n       Rain showers     \"Rain shower\"   \n",
       "4  Athenry           12    09n               Rain  \"Moderate rain \"   \n",
       "\n",
       "   windSpeed windGust cardinalWindDirection  windDirection  humidity  \\\n",
       "0         22        -                    SW            225        96   \n",
       "1         30        -                    SW            225        94   \n",
       "2         22       44                    SW            225        96   \n",
       "3         26       46                    SW            225        97   \n",
       "4         28        -                    NW            315        95   \n",
       "\n",
       "   rainfall  pressure    dayName       date reportTime  \n",
       "0       0.3       993  Wednesday 2024-12-18      00:00  \n",
       "1       0.7       992  Wednesday 2024-12-18      01:00  \n",
       "2       0.8       991  Wednesday 2024-12-18      02:00  \n",
       "3       0.8       991  Wednesday 2024-12-18      03:00  \n",
       "4       1.6       993  Wednesday 2024-12-18      04:00  "
      ]
     },
     "execution_count": 303,
     "metadata": {},
     "output_type": "execute_result"
    }
   ],
   "source": [
    "df.head()"
   ]
  },
  {
   "cell_type": "code",
   "execution_count": 304,
   "metadata": {},
   "outputs": [
    {
     "name": "stdout",
     "output_type": "stream",
     "text": [
      "<class 'pandas.core.frame.DataFrame'>\n",
      "RangeIndex: 24 entries, 0 to 23\n",
      "Data columns (total 15 columns):\n",
      " #   Column                 Non-Null Count  Dtype         \n",
      "---  ------                 --------------  -----         \n",
      " 0   name                   24 non-null     object        \n",
      " 1   temperature            24 non-null     int64         \n",
      " 2   symbol                 24 non-null     object        \n",
      " 3   weatherDescription     24 non-null     object        \n",
      " 4   text                   24 non-null     object        \n",
      " 5   windSpeed              24 non-null     int64         \n",
      " 6   windGust               24 non-null     object        \n",
      " 7   cardinalWindDirection  24 non-null     object        \n",
      " 8   windDirection          24 non-null     int64         \n",
      " 9   humidity               24 non-null     int64         \n",
      " 10  rainfall               24 non-null     float64       \n",
      " 11  pressure               24 non-null     int64         \n",
      " 12  dayName                24 non-null     object        \n",
      " 13  date                   24 non-null     datetime64[ns]\n",
      " 14  reportTime             24 non-null     object        \n",
      "dtypes: datetime64[ns](1), float64(1), int64(5), object(8)\n",
      "memory usage: 2.9+ KB\n"
     ]
    }
   ],
   "source": [
    "df.info()"
   ]
  },
  {
   "cell_type": "code",
   "execution_count": 305,
   "metadata": {},
   "outputs": [
    {
     "data": {
      "text/plain": [
       "name                     0\n",
       "temperature              0\n",
       "symbol                   0\n",
       "weatherDescription       0\n",
       "text                     0\n",
       "windSpeed                0\n",
       "windGust                 0\n",
       "cardinalWindDirection    0\n",
       "windDirection            0\n",
       "humidity                 0\n",
       "rainfall                 0\n",
       "pressure                 0\n",
       "dayName                  0\n",
       "date                     0\n",
       "reportTime               0\n",
       "dtype: int64"
      ]
     },
     "execution_count": 305,
     "metadata": {},
     "output_type": "execute_result"
    }
   ],
   "source": [
    "df.isnull().sum()"
   ]
  },
  {
   "cell_type": "code",
   "execution_count": 306,
   "metadata": {},
   "outputs": [
    {
     "data": {
      "text/html": [
       "<div>\n",
       "<style scoped>\n",
       "    .dataframe tbody tr th:only-of-type {\n",
       "        vertical-align: middle;\n",
       "    }\n",
       "\n",
       "    .dataframe tbody tr th {\n",
       "        vertical-align: top;\n",
       "    }\n",
       "\n",
       "    .dataframe thead th {\n",
       "        text-align: right;\n",
       "    }\n",
       "</style>\n",
       "<table border=\"1\" class=\"dataframe\">\n",
       "  <thead>\n",
       "    <tr style=\"text-align: right;\">\n",
       "      <th></th>\n",
       "      <th>temperature</th>\n",
       "      <th>windSpeed</th>\n",
       "      <th>windDirection</th>\n",
       "      <th>humidity</th>\n",
       "      <th>rainfall</th>\n",
       "      <th>pressure</th>\n",
       "      <th>date</th>\n",
       "    </tr>\n",
       "  </thead>\n",
       "  <tbody>\n",
       "    <tr>\n",
       "      <th>count</th>\n",
       "      <td>24.000000</td>\n",
       "      <td>24.000000</td>\n",
       "      <td>24.000000</td>\n",
       "      <td>24.000000</td>\n",
       "      <td>24.000000</td>\n",
       "      <td>24.000000</td>\n",
       "      <td>24</td>\n",
       "    </tr>\n",
       "    <tr>\n",
       "      <th>mean</th>\n",
       "      <td>8.583333</td>\n",
       "      <td>13.875000</td>\n",
       "      <td>273.750000</td>\n",
       "      <td>89.708333</td>\n",
       "      <td>0.259583</td>\n",
       "      <td>1000.875000</td>\n",
       "      <td>2024-12-18 00:00:00</td>\n",
       "    </tr>\n",
       "    <tr>\n",
       "      <th>min</th>\n",
       "      <td>3.000000</td>\n",
       "      <td>6.000000</td>\n",
       "      <td>225.000000</td>\n",
       "      <td>83.000000</td>\n",
       "      <td>0.000000</td>\n",
       "      <td>991.000000</td>\n",
       "      <td>2024-12-18 00:00:00</td>\n",
       "    </tr>\n",
       "    <tr>\n",
       "      <th>25%</th>\n",
       "      <td>7.000000</td>\n",
       "      <td>7.000000</td>\n",
       "      <td>258.750000</td>\n",
       "      <td>87.000000</td>\n",
       "      <td>0.000000</td>\n",
       "      <td>998.250000</td>\n",
       "      <td>2024-12-18 00:00:00</td>\n",
       "    </tr>\n",
       "    <tr>\n",
       "      <th>50%</th>\n",
       "      <td>9.000000</td>\n",
       "      <td>11.000000</td>\n",
       "      <td>270.000000</td>\n",
       "      <td>88.000000</td>\n",
       "      <td>0.000000</td>\n",
       "      <td>1003.000000</td>\n",
       "      <td>2024-12-18 00:00:00</td>\n",
       "    </tr>\n",
       "    <tr>\n",
       "      <th>75%</th>\n",
       "      <td>10.000000</td>\n",
       "      <td>17.750000</td>\n",
       "      <td>315.000000</td>\n",
       "      <td>92.250000</td>\n",
       "      <td>0.150000</td>\n",
       "      <td>1004.000000</td>\n",
       "      <td>2024-12-18 00:00:00</td>\n",
       "    </tr>\n",
       "    <tr>\n",
       "      <th>max</th>\n",
       "      <td>13.000000</td>\n",
       "      <td>30.000000</td>\n",
       "      <td>315.000000</td>\n",
       "      <td>97.000000</td>\n",
       "      <td>1.900000</td>\n",
       "      <td>1007.000000</td>\n",
       "      <td>2024-12-18 00:00:00</td>\n",
       "    </tr>\n",
       "    <tr>\n",
       "      <th>std</th>\n",
       "      <td>2.796219</td>\n",
       "      <td>7.502536</td>\n",
       "      <td>34.898922</td>\n",
       "      <td>3.939534</td>\n",
       "      <td>0.528455</td>\n",
       "      <td>5.160995</td>\n",
       "      <td>NaN</td>\n",
       "    </tr>\n",
       "  </tbody>\n",
       "</table>\n",
       "</div>"
      ],
      "text/plain": [
       "       temperature  windSpeed  windDirection   humidity   rainfall  \\\n",
       "count    24.000000  24.000000      24.000000  24.000000  24.000000   \n",
       "mean      8.583333  13.875000     273.750000  89.708333   0.259583   \n",
       "min       3.000000   6.000000     225.000000  83.000000   0.000000   \n",
       "25%       7.000000   7.000000     258.750000  87.000000   0.000000   \n",
       "50%       9.000000  11.000000     270.000000  88.000000   0.000000   \n",
       "75%      10.000000  17.750000     315.000000  92.250000   0.150000   \n",
       "max      13.000000  30.000000     315.000000  97.000000   1.900000   \n",
       "std       2.796219   7.502536      34.898922   3.939534   0.528455   \n",
       "\n",
       "          pressure                 date  \n",
       "count    24.000000                   24  \n",
       "mean   1000.875000  2024-12-18 00:00:00  \n",
       "min     991.000000  2024-12-18 00:00:00  \n",
       "25%     998.250000  2024-12-18 00:00:00  \n",
       "50%    1003.000000  2024-12-18 00:00:00  \n",
       "75%    1004.000000  2024-12-18 00:00:00  \n",
       "max    1007.000000  2024-12-18 00:00:00  \n",
       "std       5.160995                  NaN  "
      ]
     },
     "execution_count": 306,
     "metadata": {},
     "output_type": "execute_result"
    }
   ],
   "source": [
    "df.describe()"
   ]
  },
  {
   "cell_type": "markdown",
   "metadata": {},
   "source": [
    "## Summary of each data column:\n",
    "\n",
    "**Temperature:** From 3°C to 13°C, with an average of 8.58°C.\n",
    "\n",
    "**Wind Speed:** From 6 to 30 units/hour, with an average of 13.88.\n",
    "\n",
    "**Wind Direction:** From 225° to 315°, with an average of 273.75°.\n",
    "\n",
    "**Humidity:** Between 83% and 97%, with an average of 89.71%.\n",
    "\n",
    "**Rainfall:** From 0.0 to 1.9 mm, averaging 0.26 mm.\n",
    "\n",
    "**Pressure:** Between 991 and 1007 hPa, with an average of 1000.88 hPa.\n",
    "\n",
    "**Date:** Observations were from the 18th of December 2024."
   ]
  },
  {
   "cell_type": "markdown",
   "metadata": {},
   "source": [
    "# References\n",
    "\n",
    "1. Athenry weather station data: https://prodapi.metweb.ie/observations/athenry/today\n",
    "\n",
    "2. Today's weather, Athenry, data.gov.ie: https://data.gov.ie/dataset/todays-weather-athenry\n",
    "\n",
    "3. %%bash: https://www.geeksforgeeks.org/useful-ipython-magic-commands/\n",
    "\n",
    "4. Create a directory: https://www.w3schools.com/python/ref_os_mkdir.asp\n",
    "\n",
    "5. more command: https://www.geeksforgeeks.org/more-command-in-linux-with-examples/\n",
    "\n",
    "6. wget vs curl: https://www.warp.dev/terminus/curl-vs-wget\n",
    "\n",
    "7. chmod-x: https://www.geeksforgeeks.org/what-does-chmod-x-do-and-how-to-use-it/\n",
    "\n",
    "8. JSON - Pandas: https://www.w3schools.com/python/pandas/pandas_json.asp"
   ]
  }
 ],
 "metadata": {
  "kernelspec": {
   "display_name": "Python 3",
   "language": "python",
   "name": "python3"
  },
  "language_info": {
   "codemirror_mode": {
    "name": "ipython",
    "version": 3
   },
   "file_extension": ".py",
   "mimetype": "text/x-python",
   "name": "python",
   "nbconvert_exporter": "python",
   "pygments_lexer": "ipython3",
   "version": "3.11.9"
  }
 },
 "nbformat": 4,
 "nbformat_minor": 2
}
