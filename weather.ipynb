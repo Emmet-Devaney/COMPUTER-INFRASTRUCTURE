{
 "cells": [
  {
   "cell_type": "markdown",
   "metadata": {},
   "source": [
    "# Task 8 Jupyter Notebook\n"
   ]
  },
  {
   "cell_type": "markdown",
   "metadata": {},
   "source": [
    "Create a notebook called weather.ipynb at the root of your repository. In this notebook, write a brief report explaining how you completed Tasks 1 to 7. Provide short descriptions of the commands used in each task and explain their role in completing the tasks."
   ]
  },
  {
   "cell_type": "markdown",
   "metadata": {},
   "source": [
    "## Task 1: Create Directory Structure\n"
   ]
  },
  {
   "cell_type": "code",
   "execution_count": 57,
   "metadata": {},
   "outputs": [],
   "source": [
    "\n",
    "import os\n"
   ]
  },
  {
   "cell_type": "markdown",
   "metadata": {},
   "source": [
    "\n",
    "### Define directory paths\n"
   ]
  },
  {
   "cell_type": "code",
   "execution_count": 58,
   "metadata": {},
   "outputs": [],
   "source": [
    "data_dir = \"data\"\n",
    "timestamps_dir = os.path.join(data_dir, \"timestamps\")\n",
    "weather_dir = os.path.join(data_dir, \"weather\")\n"
   ]
  },
  {
   "cell_type": "markdown",
   "metadata": {},
   "source": [
    "\n",
    "### Create directories\n"
   ]
  },
  {
   "cell_type": "code",
   "execution_count": 59,
   "metadata": {},
   "outputs": [
    {
     "name": "stdout",
     "output_type": "stream",
     "text": [
      "Directories created: data\\timestamps, data\\weather\n"
     ]
    }
   ],
   "source": [
    "os.makedirs(timestamps_dir, exist_ok=True)\n",
    "os.makedirs(weather_dir, exist_ok=True)\n",
    "\n",
    "print(f\"Directories created: {timestamps_dir}, {weather_dir}\")"
   ]
  },
  {
   "cell_type": "markdown",
   "metadata": {},
   "source": [
    "## Task 2: Append Current Date and Time to now.txt\n"
   ]
  },
  {
   "cell_type": "code",
   "execution_count": 60,
   "metadata": {},
   "outputs": [],
   "source": [
    "\n",
    "from datetime import datetime\n",
    "\n",
    "now_file = os.path.join(timestamps_dir, \"now.txt\")\n"
   ]
  },
  {
   "cell_type": "markdown",
   "metadata": {},
   "source": [
    "\n",
    "### Append current date and time 10 times\n"
   ]
  },
  {
   "cell_type": "code",
   "execution_count": 61,
   "metadata": {},
   "outputs": [
    {
     "name": "stdout",
     "output_type": "stream",
     "text": [
      "Appended current date and time 10 times to data\\timestamps\\now.txt\n"
     ]
    }
   ],
   "source": [
    "with open(now_file, \"a\") as file:\n",
    "    for _ in range(10):\n",
    "        file.write(f\"{datetime.now()}\\n\")\n",
    "\n",
    "print(f\"Appended current date and time 10 times to {now_file}\")"
   ]
  },
  {
   "cell_type": "markdown",
   "metadata": {},
   "source": [
    "## Task 3: Append Formatted Timestamps to formatted.txt\n"
   ]
  },
  {
   "cell_type": "code",
   "execution_count": 62,
   "metadata": {},
   "outputs": [],
   "source": [
    "\n",
    "formatted_file = os.path.join(timestamps_dir, \"formatted.txt\")\n"
   ]
  },
  {
   "cell_type": "markdown",
   "metadata": {},
   "source": [
    "\n",
    "### Append formatted timestamps\n"
   ]
  },
  {
   "cell_type": "code",
   "execution_count": 63,
   "metadata": {},
   "outputs": [
    {
     "name": "stdout",
     "output_type": "stream",
     "text": [
      "Appended formatted timestamps to data\\timestamps\\formatted.txt\n"
     ]
    }
   ],
   "source": [
    "with open(formatted_file, \"a\") as file:\n",
    "    for _ in range(10):\n",
    "        file.write(f\"{datetime.now().strftime('%Y%m%d_%H%M%S')}\\n\")\n",
    "\n",
    "print(f\"Appended formatted timestamps to {formatted_file}\")"
   ]
  },
  {
   "cell_type": "markdown",
   "metadata": {},
   "source": [
    "## Task 4: Create Timestamped Files\n"
   ]
  },
  {
   "cell_type": "markdown",
   "metadata": {},
   "source": [
    "\n",
    "### Create an empty file with a timestamped name\n"
   ]
  },
  {
   "cell_type": "code",
   "execution_count": 64,
   "metadata": {},
   "outputs": [],
   "source": [
    "empty_file_name = datetime.now().strftime('%Y%m%d_%H%M%S') + \".txt\"\n",
    "empty_file_path = os.path.join(timestamps_dir, empty_file_name)\n"
   ]
  },
  {
   "cell_type": "code",
   "execution_count": 65,
   "metadata": {},
   "outputs": [
    {
     "name": "stdout",
     "output_type": "stream",
     "text": [
      "Created empty file: data\\timestamps\\20241219_020827.txt\n"
     ]
    }
   ],
   "source": [
    "\n",
    "with open(empty_file_path, \"w\") as file:\n",
    "    pass  # Create an empty file\n",
    "\n",
    "print(f\"Created empty file: {empty_file_path}\")"
   ]
  },
  {
   "cell_type": "markdown",
   "metadata": {},
   "source": [
    "## Task 5: Download Today’s Weather Data\n"
   ]
  },
  {
   "cell_type": "code",
   "execution_count": 66,
   "metadata": {},
   "outputs": [],
   "source": [
    "\n",
    "import requests\n",
    "\n",
    "weather_url = \"https://prodapi.metweb.ie/observations/athenry/today\"\n",
    "weather_file = os.path.join(weather_dir, \"weather.json\")\n"
   ]
  },
  {
   "cell_type": "markdown",
   "metadata": {},
   "source": [
    "\n",
    "### Download weather data\n"
   ]
  },
  {
   "cell_type": "code",
   "execution_count": 67,
   "metadata": {},
   "outputs": [
    {
     "name": "stdout",
     "output_type": "stream",
     "text": [
      "Downloaded weather data to data\\weather\\weather.json\n"
     ]
    }
   ],
   "source": [
    "response = requests.get(weather_url)\n",
    "if response.status_code == 200:\n",
    "    with open(weather_file, \"w\") as file:\n",
    "        file.write(response.text)\n",
    "    print(f\"Downloaded weather data to {weather_file}\")\n",
    "else:\n",
    "    print(f\"Failed to download weather data. Status code: {response.status_code}\")"
   ]
  },
  {
   "cell_type": "markdown",
   "metadata": {},
   "source": [
    "## Task 6: Save Weather Data with Timestamped Filenames\n"
   ]
  },
  {
   "cell_type": "code",
   "execution_count": 68,
   "metadata": {},
   "outputs": [],
   "source": [
    "\n",
    "timestamped_weather_file = os.path.join(weather_dir, datetime.now().strftime('%Y%m%d_%H%M%S') + \".json\")\n"
   ]
  },
  {
   "cell_type": "markdown",
   "metadata": {},
   "source": [
    "\n",
    "### Download weather data with timestamped filename\n"
   ]
  },
  {
   "cell_type": "code",
   "execution_count": 69,
   "metadata": {},
   "outputs": [
    {
     "name": "stdout",
     "output_type": "stream",
     "text": [
      "Downloaded weather data with timestamped filename: data\\weather\\20241219_020828.json\n"
     ]
    }
   ],
   "source": [
    "response = requests.get(weather_url)\n",
    "if response.status_code == 200:\n",
    "    with open(timestamped_weather_file, \"w\") as file:\n",
    "        file.write(response.text)\n",
    "    print(f\"Downloaded weather data with timestamped filename: {timestamped_weather_file}\")\n",
    "else:\n",
    "    print(f\"Failed to download weather data. Status code: {response.status_code}\")"
   ]
  },
  {
   "cell_type": "markdown",
   "metadata": {},
   "source": [
    "## Task 7: Automate the Process with weather.sh\n",
    "\n",
    "**Task description:** Write a bash script named `weather.sh` to automate the download process, save the weather data in the `data/weather` directory, and ensure the filenames are timestamped.\n",
    "\n",
    "**Commands used:**\n",
    "- `touch weather.sh`: Creates the script file.\n",
    "- Add the script content:\n",
    "  ```bash\n",
    "  #! /bin/bash\n",
    "  mkdir -p data/weather\n",
    "  curl -O data/weather/`date +\\\"%Y%m%d_%H%M%S\\\"`.json https://prodapi.metweb.ie/observations/athenry/today"
   ]
  },
  {
   "cell_type": "code",
   "execution_count": 70,
   "metadata": {},
   "outputs": [
    {
     "name": "stderr",
     "output_type": "stream",
     "text": [
      "  % Total    % Received % Xferd  Average Speed   Time    Time     Time  Current\n",
      "                                 Dload  Upload   Total   Spent    Left  Speed\n",
      "100   615    0   615    0     0    164      0 --:--:--  0:00:03 --:--:--   165\n"
     ]
    }
   ],
   "source": [
    "%%bash\n",
    "\n",
    "# Create the weather directory if it doesn't exist\n",
    "if [ ! -d \"data/weather\" ]; then\n",
    "    mkdir -p data/weather\n",
    "fi\n",
    "\n",
    "# Navigate to the weather directory\n",
    "cd data/weather\n",
    "\n",
    "# Download the weather data with a timestamped filename\n",
    "curl -o $(date +\"%Y%m%d_%H%M%S\").json https://prodapi.metweb.ie/observations/athenry/today\n",
    "\n",
    "\n"
   ]
  },
  {
   "cell_type": "code",
   "execution_count": 71,
   "metadata": {},
   "outputs": [],
   "source": [
    "%%bash\n",
    "\n",
    "chmod +x weather.sh"
   ]
  },
  {
   "cell_type": "code",
   "execution_count": 72,
   "metadata": {},
   "outputs": [
    {
     "name": "stderr",
     "output_type": "stream",
     "text": [
      "  % Total    % Received % Xferd  Average Speed   Time    Time     Time  Current\n",
      "                                 Dload  Upload   Total   Spent    Left  Speed\n",
      "100   615    0   615    0     0    737      0 --:--:-- --:--:-- --:--:--   737\n"
     ]
    }
   ],
   "source": [
    "%%bash\n",
    "\n",
    "./weather.sh"
   ]
  },
  {
   "cell_type": "code",
   "execution_count": 73,
   "metadata": {},
   "outputs": [
    {
     "name": "stdout",
     "output_type": "stream",
     "text": [
      "20241211_194823.json\n",
      "20241211_213106.json\n",
      "20241211_215427.json\n",
      "20241211_215538.json\n",
      "20241211_220225.json\n",
      "20241215_210607.json\n",
      "20241218_230954.json\n",
      "20241218_234319.json\n",
      "20241218_234614.json\n",
      "20241218_234650.json\n",
      "20241218_234654.json\n",
      "20241218_234708.json\n",
      "20241219_012916.json\n",
      "20241219_012923.json\n",
      "20241219_013443.json\n",
      "20241219_014445.json\n",
      "20241219_014451.json\n",
      "20241219_014452.json\n",
      "20241219_015013.json\n",
      "20241219_015016.json\n",
      "20241219_015017.json\n",
      "20241219_015122.json\n",
      "20241219_015126.json\n",
      "20241219_020828.json\n",
      "20241219_020834.json\n",
      "20241219_020838.json\n",
      "weather.json\n",
      "weather.sh\n"
     ]
    }
   ],
   "source": [
    "%%bash\n",
    "\n",
    "ls data/weather"
   ]
  },
  {
   "cell_type": "markdown",
   "metadata": {},
   "source": [
    "## Task 9"
   ]
  },
  {
   "cell_type": "markdown",
   "metadata": {},
   "source": [
    "# References"
   ]
  }
 ],
 "metadata": {
  "kernelspec": {
   "display_name": "Python 3",
   "language": "python",
   "name": "python3"
  },
  "language_info": {
   "codemirror_mode": {
    "name": "ipython",
    "version": 3
   },
   "file_extension": ".py",
   "mimetype": "text/x-python",
   "name": "python",
   "nbconvert_exporter": "python",
   "pygments_lexer": "ipython3",
   "version": "3.11.9"
  }
 },
 "nbformat": 4,
 "nbformat_minor": 2
}
